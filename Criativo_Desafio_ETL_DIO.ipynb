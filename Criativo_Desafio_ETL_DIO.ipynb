{
  "nbformat": 4,
  "nbformat_minor": 0,
  "metadata": {
    "colab": {
      "provenance": []
    },
    "kernelspec": {
      "name": "python3",
      "display_name": "Python 3"
    },
    "language_info": {
      "name": "python"
    }
  },
  "cells": [
    {
      "cell_type": "markdown",
      "source": [
        "# Desafio Bootcamp Ciência de Dados da DIO (ETL com Python)"
      ],
      "metadata": {
        "id": "BPJQsTCULaC-"
      }
    },
    {
      "cell_type": "markdown",
      "source": [
        "**Contexto:** Se manter por dentro das notícias do clima na sua cidade é importante para planejar melhor o seu dia. O objetivo deste script foi usar o poder da IA Generativa para criar mensagens de sobre previsão do clima personalizadas que serão entregues de acordo com a cidade.\n",
        "\n",
        "**Condições do Projeto:**\n",
        "\n",
        "1. Foi consumido o API `https://openweathermap.org/` (API da OpenWeather) para obter os dados climáticos de cada cidade.\n",
        "2. A requisição da API OpenWeather foi realizado dentro da estrutura de repetição a cada 60 segundos (1 minuto) para que não haja risco de exceder o limite de requisições por minuto na API.\n",
        "3. Depois de obter os dados do clima da cidade, foi usado a API do ChatGPT (OpenAI) para gerar uma mensagem de clima personalizada para cada cidade.\n",
        "4. Uma vez que a mensagem para cada cidade esteja pronta, foi criado uma planilha para armazenas a mensagem para cada cidade.\n",
        "\n"
      ],
      "metadata": {
        "id": "k5fA5OrXt1a3"
      }
    },
    {
      "cell_type": "code",
      "source": [
        "# Para ter acesso a API OpenWeather, foi seguido o passo a passo do vídeo 'https://www.youtube.com/watch?v=W_AQ_50Njgo&t=1249s'\n",
        "# Substituir o texto TODO por sua API Key da OpenWeather, ela será salva como uma variável de ambiente.\n",
        "# Foi alterado o link para requisição da API OpenWeather para puxar informações baseado na Cidade. Também foi configurado para que os valores retornassem em pt-br\n",
        "\n",
        "openweather_api_key = \"KEY\""
      ],
      "metadata": {
        "id": "FKqLC_CWoYqR"
      },
      "execution_count": null,
      "outputs": []
    },
    {
      "cell_type": "markdown",
      "source": [
        "## **E**xtract\n",
        "\n",
        "Extraído a lista de Cidades a partir do arquivo CSV. Para cada cidade, foi feito uma requisição GET para obter os dados de clima da cidade correspondente."
      ],
      "metadata": {
        "id": "9dfI-o7gLRq9"
      }
    },
    {
      "cell_type": "code",
      "execution_count": null,
      "metadata": {
        "id": "NYydpX_GLRCB",
        "colab": {
          "base_uri": "https://localhost:8080/"
        },
        "outputId": "1afd8797-279b-4d63-ef18-8d6dd048e0bf"
      },
      "outputs": [
        {
          "output_type": "stream",
          "name": "stdout",
          "text": [
            "['Manaus', 'Rio de Janeiro', 'São Paulo', 'Salvador', 'Campo Grande']\n"
          ]
        }
      ],
      "source": [
        "import pandas as pd\n",
        "\n",
        "df = pd.read_csv('Cidades.csv')\n",
        "cidades = df['Cidade'].tolist()\n",
        "print(cidades)"
      ]
    },
    {
      "cell_type": "code",
      "source": [
        "import requests\n",
        "import json\n",
        "import time\n",
        "\n",
        "def get_previsao(cidade):\n",
        "  response = requests.get(f\"https://api.openweathermap.org/data/2.5/weather?q={cidade}&appid={openweather_api_key}&lang=pt_br\")\n",
        "  return response.json() if response.status_code == 200 else None\n",
        "\n",
        "for cidade in cidades:\n",
        "  print(cidade)\n",
        "  previsoes = get_previsao(cidade)\n",
        "  descricao = previsoes['weather'][0]['description']\n",
        "  print(descricao)\n",
        "  print(previsoes)\n",
        "  time.sleep(60)"
      ],
      "metadata": {
        "id": "F5XOuCZGSTGw",
        "colab": {
          "base_uri": "https://localhost:8080/"
        },
        "outputId": "c7f46914-2731-4e58-cf19-80e0082d31ba"
      },
      "execution_count": null,
      "outputs": [
        {
          "output_type": "stream",
          "name": "stdout",
          "text": [
            "Manaus\n",
            "céu limpo\n",
            "{'coord': {'lon': -60.025, 'lat': -3.1019}, 'weather': [{'id': 800, 'main': 'Clear', 'description': 'céu limpo', 'icon': '01n'}], 'base': 'stations', 'main': {'temp': 301.42, 'feels_like': 305.6, 'temp_min': 299.43, 'temp_max': 301.42, 'pressure': 1009, 'humidity': 78}, 'visibility': 10000, 'wind': {'speed': 1.03, 'deg': 230}, 'clouds': {'all': 0}, 'dt': 1697865911, 'sys': {'type': 1, 'id': 8412, 'country': 'BR', 'sunrise': 1697881133, 'sunset': 1697925019}, 'timezone': -14400, 'id': 3663517, 'name': 'Manaus', 'cod': 200}\n",
            "Rio de Janeiro\n",
            "nublado\n",
            "{'coord': {'lon': -43.2075, 'lat': -22.9028}, 'weather': [{'id': 804, 'main': 'Clouds', 'description': 'nublado', 'icon': '04n'}], 'base': 'stations', 'main': {'temp': 294.13, 'feels_like': 294.32, 'temp_min': 294.13, 'temp_max': 294.15, 'pressure': 1017, 'humidity': 78}, 'visibility': 10000, 'wind': {'speed': 2.06, 'deg': 160}, 'clouds': {'all': 100}, 'dt': 1697865797, 'sys': {'type': 1, 'id': 8429, 'country': 'BR', 'sunrise': 1697876128, 'sunset': 1697921952}, 'timezone': -10800, 'id': 3451190, 'name': 'Rio de Janeiro', 'cod': 200}\n",
            "São Paulo\n",
            "nublado\n",
            "{'coord': {'lon': -46.6361, 'lat': -23.5475}, 'weather': [{'id': 804, 'main': 'Clouds', 'description': 'nublado', 'icon': '04n'}], 'base': 'stations', 'main': {'temp': 289.92, 'feels_like': 290.13, 'temp_min': 289.51, 'temp_max': 291.18, 'pressure': 1020, 'humidity': 95}, 'visibility': 10000, 'wind': {'speed': 1.79, 'deg': 68, 'gust': 2.24}, 'clouds': {'all': 100}, 'dt': 1697866002, 'sys': {'type': 2, 'id': 2033898, 'country': 'BR', 'sunrise': 1697876915, 'sunset': 1697922811}, 'timezone': -10800, 'id': 3448439, 'name': 'São Paulo', 'cod': 200}\n",
            "Salvador\n",
            "nublado\n",
            "{'coord': {'lon': -88.9167, 'lat': 13.8333}, 'weather': [{'id': 804, 'main': 'Clouds', 'description': 'nublado', 'icon': '04n'}], 'base': 'stations', 'main': {'temp': 295.96, 'feels_like': 296.86, 'temp_min': 295.37, 'temp_max': 295.96, 'pressure': 1013, 'humidity': 98, 'sea_level': 1013, 'grnd_level': 944}, 'visibility': 10000, 'wind': {'speed': 1.31, 'deg': 284, 'gust': 1.85}, 'clouds': {'all': 99}, 'dt': 1697866092, 'sys': {'type': 2, 'id': 2016335, 'country': 'SV', 'sunrise': 1697802427, 'sunset': 1697844812}, 'timezone': -21600, 'id': 3585968, 'name': 'El Salvador', 'cod': 200}\n",
            "Campo Grande\n",
            "chuva leve\n",
            "{'coord': {'lon': -54.6464, 'lat': -20.4428}, 'weather': [{'id': 500, 'main': 'Rain', 'description': 'chuva leve', 'icon': '10n'}], 'base': 'stations', 'main': {'temp': 296.9, 'feels_like': 297.24, 'temp_min': 296.9, 'temp_max': 296.9, 'pressure': 1014, 'humidity': 73}, 'visibility': 10000, 'wind': {'speed': 3.6, 'deg': 110}, 'rain': {'1h': 0.65}, 'clouds': {'all': 0}, 'dt': 1697866152, 'sys': {'type': 1, 'id': 8347, 'country': 'BR', 'sunrise': 1697879005, 'sunset': 1697924566}, 'timezone': -14400, 'id': 3467747, 'name': 'Campo Grande', 'cod': 200}\n"
          ]
        }
      ]
    },
    {
      "cell_type": "markdown",
      "source": [
        "## **T**ransform\n",
        "\n",
        "Utilizado a API do OpenAI GPT-3.5 para gerar uma mensagem sobre o clima personalizada para cidade."
      ],
      "metadata": {
        "id": "cWoqInB4TF1x"
      }
    },
    {
      "cell_type": "code",
      "source": [
        "!pip install openai"
      ],
      "metadata": {
        "id": "O--PCAObTQkK"
      },
      "execution_count": null,
      "outputs": []
    },
    {
      "cell_type": "code",
      "source": [
        "# Documentação Oficial da API OpenAI: https://platform.openai.com/docs/api-reference/introduction\n",
        "# Informações sobre o Período Gratuito: https://help.openai.com/en/articles/4936830\n",
        "\n",
        "# Para gerar uma API Key:\n",
        "# 1. Crie uma conta na OpenAI\n",
        "# 2. Acesse a seção \"API Keys\"\n",
        "# 3. Clique em \"Create API Key\"\n",
        "# Link direto: https://platform.openai.com/account/api-keys\n",
        "\n",
        "# Substitua o texto TODO por sua API Key da OpenAI, ela será salva como uma variável de ambiente.\n",
        "openai_api_key = 'KEY'"
      ],
      "metadata": {
        "id": "sUB1doiDTX3y"
      },
      "execution_count": null,
      "outputs": []
    },
    {
      "cell_type": "code",
      "source": [
        "import openai\n",
        "\n",
        "openai.api_key = openai_api_key\n",
        "\n",
        "def generate_ai_news(descricao, cidade):\n",
        "  completion = openai.ChatCompletion.create(\n",
        "    model=\"gpt-3.5-turbo\",\n",
        "    messages=[\n",
        "      {\n",
        "          \"role\": \"system\",\n",
        "          \"content\": \"Você é um especialista notícias climáticas.\"\n",
        "      },\n",
        "      {\n",
        "          \"role\": \"user\",\n",
        "          \"content\": f\"Crie uma mensagem sobre o que fazer no clima {descricao} na cidade {cidade} (máximo de 100 caracteres)\"\n",
        "      }\n",
        "    ]\n",
        "  )\n",
        "\n",
        "  return completion.choices[0].message.content.strip('\\\"')\n",
        "\n",
        "mensagem =[]\n",
        "\n",
        "for cidade in cidades:\n",
        "  news = generate_ai_news(descricao, cidade)\n",
        "  print(news)\n",
        "  mensagem.append(news)"
      ],
      "metadata": {
        "id": "n1w78kNxTrZY"
      },
      "execution_count": null,
      "outputs": []
    },
    {
      "cell_type": "markdown",
      "source": [
        "## **L**oad\n",
        "\n",
        "Cria uma planilha de cidade e \"news\" de cada cidade na API com a nova mensagem gerada."
      ],
      "metadata": {
        "id": "kNuP0SDUZMBY"
      }
    },
    {
      "cell_type": "code",
      "source": [
        "dados = dict(zip(cidades, mensagem))\n",
        "\n",
        "planilha = pd.DataFrame(data=dados, index=[0])\n",
        "print(planilha)\n",
        "\n",
        "#planilha.to_excel('mensagem_clima.xls')"
      ],
      "metadata": {
        "id": "YefWfYBoZMN2"
      },
      "execution_count": null,
      "outputs": []
    }
  ]
}